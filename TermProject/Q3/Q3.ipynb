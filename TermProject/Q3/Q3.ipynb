{
 "cells": [
  {
   "cell_type": "code",
   "execution_count": 1,
   "metadata": {},
   "outputs": [],
   "source": [
    "import moviepy.video.io.VideoFileClip as mpy\n",
    "import moviepy.editor as mpyeditor\n",
    "import cv2 as cv\n",
    "\n",
    "import numpy as np\n",
    "import matplotlib.pyplot as plt\n",
    "\n",
    "from copy import deepcopy\n",
    "from sklearn.preprocessing import normalize\n",
    "from sklearn.metrics import mean_squared_error"
   ]
  },
  {
   "cell_type": "code",
   "execution_count": 2,
   "metadata": {},
   "outputs": [],
   "source": [
    "vid = mpy.VideoFileClip(\"../TermProjectFiles/Part3/movie_001.avi\")\n",
    "frame_count = vid.reader.nframes\n",
    "video_fps = vid.fps\n",
    "\n",
    "vid_frame = list()\n",
    "for i in range(frame_count):\n",
    "    vid_frame.append(vid.get_frame(i*1.0/video_fps))"
   ]
  },
  {
   "cell_type": "markdown",
   "metadata": {},
   "source": [
    "## Dense Flow Approach"
   ]
  },
  {
   "cell_type": "code",
   "execution_count": 3,
   "metadata": {},
   "outputs": [],
   "source": [
    "def give_coord(mask_arr):\n",
    "    return int(np.median(np.where(mask_arr)[0])), int(np.median(np.where(mask_arr)[1]))"
   ]
  },
  {
   "cell_type": "code",
   "execution_count": 4,
   "metadata": {},
   "outputs": [],
   "source": [
    "def find_circles(img):\n",
    "    \n",
    "    img_cp = deepcopy(img)\n",
    "    img_cp = cv.cvtColor(img_cp, cv.COLOR_RGB2HSV)\n",
    "    green_mask = cv.inRange(img_cp, (60, 25, 25), (80, 255,255))\n",
    "    blue_mask = cv.inRange(img_cp, (105, 25, 25), (125, 255,255))\n",
    "    red_mask = cv.inRange(img_cp, (165, 50, 50), (180, 255,255))\n",
    "    pink_mask = cv.inRange(img_cp, (150, 25, 25), (170, 255,255))\n",
    "    \n",
    "    green_imask = green_mask > 0\n",
    "    green = np.zeros_like(img, np.uint8)\n",
    "    green[green_imask] = img[green_imask]\n",
    "\n",
    "    blue_imask = blue_mask > 0\n",
    "    blue = np.zeros_like(img, np.uint8)\n",
    "    blue[blue_imask] = img[blue_imask]\n",
    "\n",
    "    red_imask = red_mask > 0\n",
    "    red = np.zeros_like(img, np.uint8)\n",
    "    red[red_imask] = img[red_imask]\n",
    "\n",
    "    pink_imask = pink_mask > 0\n",
    "    pink = np.zeros_like(img, np.uint8)\n",
    "    pink[pink_imask] = img[pink_imask]\n",
    "    \n",
    "    p0 = np.array([\n",
    "    [give_coord(red_imask)],\n",
    "    [give_coord(green_imask)],\n",
    "    [give_coord(blue_imask)],\n",
    "    [give_coord(pink_imask)]\n",
    "    ])\n",
    "    \n",
    "    return p0"
   ]
  },
  {
   "cell_type": "code",
   "execution_count": 5,
   "metadata": {},
   "outputs": [
    {
     "name": "stdout",
     "output_type": "stream",
     "text": [
      "0\n",
      "25\n",
      "50\n",
      "75\n",
      "100\n",
      "125\n",
      "150\n",
      "175\n",
      "200\n",
      "225\n",
      "250\n",
      "275\n",
      "300\n",
      "325\n",
      "350\n",
      "375\n",
      "400\n",
      "425\n",
      "450\n",
      "475\n",
      "500\n",
      "525\n",
      "550\n",
      "575\n",
      "600\n",
      "625\n",
      "650\n",
      "675\n",
      "700\n",
      "725\n",
      "750\n",
      "775\n",
      "800\n",
      "825\n",
      "850\n",
      "875\n",
      "900\n",
      "925\n",
      "950\n",
      "975\n",
      "1000\n",
      "1025\n",
      "1050\n",
      "1075\n",
      "1100\n",
      "1125\n",
      "1150\n",
      "1175\n",
      "1200\n",
      "1225\n",
      "1250\n",
      "1275\n",
      "1300\n",
      "1325\n",
      "1350\n",
      "1375\n",
      "1400\n",
      "1425\n",
      "1450\n",
      "1475\n",
      "1500\n",
      "1525\n",
      "1550\n",
      "1575\n",
      "1600\n",
      "1625\n",
      "1650\n",
      "1675\n",
      "1700\n",
      "1725\n",
      "1750\n",
      "1775\n",
      "1800\n",
      "1825\n",
      "1850\n",
      "1875\n",
      "1900\n",
      "1925\n",
      "1950\n",
      "1975\n",
      "2000\n",
      "2025\n",
      "2050\n",
      "2075\n",
      "2100\n",
      "2125\n",
      "2150\n"
     ]
    }
   ],
   "source": [
    "red_vec = []\n",
    "green_vec = []\n",
    "blue_vec = []\n",
    "pink_vec = []\n",
    "\n",
    "for i in range(frame_count-1):\n",
    "    if i % 25 == 0:\n",
    "        print(i)\n",
    "    circle_coords = find_circles(vid_frame[i])\n",
    "    prvs = cv.cvtColor(vid_frame[i], cv.COLOR_RGB2GRAY)\n",
    "    nxt = cv.cvtColor(vid_frame[i+1], cv.COLOR_RGB2GRAY)\n",
    "    flow = cv.calcOpticalFlowFarneback(prvs, nxt, None, 0.5, 3, 15, 3, 5, 1.2, 0)\n",
    "    \n",
    "    red_vec.append(flow[circle_coords[0, 0, 0], circle_coords[0, 0, 1], :].astype(np.float32))\n",
    "    green_vec.append(flow[circle_coords[1, 0, 0], circle_coords[1, 0, 1], :].astype(np.float32))\n",
    "    blue_vec.append(flow[circle_coords[2, 0, 0], circle_coords[2, 0, 1], :].astype(np.float32))\n",
    "    pink_vec.append(flow[circle_coords[3, 0, 0], circle_coords[3, 0, 1], :].astype(np.float32))"
   ]
  },
  {
   "cell_type": "code",
   "execution_count": 6,
   "metadata": {},
   "outputs": [],
   "source": [
    "def calc_speed(arr):\n",
    "    a = np.sum(np.array(arr)**2, axis=1)\n",
    "    return np.sum(np.sqrt(a))/(frame_count-2)"
   ]
  },
  {
   "cell_type": "markdown",
   "metadata": {},
   "source": [
    "### Speeds"
   ]
  },
  {
   "cell_type": "code",
   "execution_count": 7,
   "metadata": {},
   "outputs": [
    {
     "name": "stdout",
     "output_type": "stream",
     "text": [
      "Red: 3.503964013401109 pixels/frame\n",
      "Green: 1.5493203549199976 pixels/frame\n",
      "Blue: 3.0940148993472736 pixels/frame\n",
      "Pink: 0.30066538474035354 pixels/frame\n"
     ]
    }
   ],
   "source": [
    "print(f\"Red: {calc_speed(red_vec)} pixels/frame\")\n",
    "print(f\"Green: {calc_speed(green_vec)} pixels/frame\")\n",
    "print(f\"Blue: {calc_speed(blue_vec)} pixels/frame\")\n",
    "print(f\"Pink: {calc_speed(pink_vec)} pixels/frame\")"
   ]
  },
  {
   "cell_type": "markdown",
   "metadata": {},
   "source": [
    "## Failed Attempts"
   ]
  },
  {
   "cell_type": "code",
   "execution_count": 8,
   "metadata": {},
   "outputs": [],
   "source": [
    "feature_params = dict(maxCorners = 100,\n",
    "                      qualityLevel = 0.3,\n",
    "                      minDistance = 7,\n",
    "                      blockSize = 7)"
   ]
  },
  {
   "cell_type": "code",
   "execution_count": 9,
   "metadata": {},
   "outputs": [],
   "source": [
    "def good_frame(frame):\n",
    "    new_frame = np.zeros((frame.shape[0] + 250, frame.shape[1] + 250))\n",
    "    pts = find_circles(frame)\n",
    "    for i in range(pts.shape[0]):\n",
    "        new_frame[125+(pts[i, 0, 0]-10):125+(pts[i, 0, 0]+11), 125+(pts[i, 0, 1]-10):125+(pts[i, 0, 1]+11)] = 1\n",
    "    \n",
    "    return new_frame.astype(np.uint8)"
   ]
  },
  {
   "cell_type": "code",
   "execution_count": 10,
   "metadata": {},
   "outputs": [
    {
     "data": {
      "text/plain": [
       "<matplotlib.collections.PathCollection at 0x7f76da799110>"
      ]
     },
     "execution_count": 10,
     "metadata": {},
     "output_type": "execute_result"
    },
    {
     "data": {
      "image/png": "[encoded data removed]",
      "text/plain": [
       "<Figure size 432x288 with 1 Axes>"
      ]
     },
     "metadata": {
      "needs_background": "light"
     },
     "output_type": "display_data"
    }
   ],
   "source": [
    "i = 2100\n",
    "found_pt = cv.goodFeaturesToTrack(good_frame(vid_frame[i]), mask = None, **feature_params)\n",
    "plt.imshow(vid_frame[i], cmap=\"gray\")\n",
    "plt.scatter(found_pt[:, 0, 0], found_pt[:, 0, 1], color=\"black\")"
   ]
  },
  {
   "cell_type": "code",
   "execution_count": 11,
   "metadata": {},
   "outputs": [],
   "source": [
    "def optical_flow(curr_frame, next_frame, center_pt, window_size, gauss_kernel = None):\n",
    "    \"\"\"\n",
    "    Optical flow implementation with lucas-kanade.\n",
    "    \"\"\"\n",
    "    assert window_size % 2 == 1\n",
    "    assert window_size >= 3\n",
    "    half = window_size // 2\n",
    "    \n",
    "    if gauss_kernel is None:\n",
    "        gauss_kernel = window_size\n",
    "    elif gauss_kernel == 0:\n",
    "        gauss_kernel = window_size\n",
    "    \n",
    "    # Convert the frames into grayscale\n",
    "    curr_img, next_img = deepcopy(curr_frame), deepcopy(next_frame)\n",
    "    curr_gray, next_gray = curr_img, next_img\n",
    "    curr_gray, next_gray = np.float32(curr_gray), np.float32(next_gray)\n",
    "    \n",
    "    # Create the windows with the given window size\n",
    "    curr_window = curr_gray[center_pt[1]-half:center_pt[1]+half+1, center_pt[0]-half:center_pt[0]+half+1]\n",
    "    next_window = next_gray[center_pt[1]-half:center_pt[1]+half+1, center_pt[0]-half:center_pt[0]+half+1]\n",
    "    \n",
    "    larger_window = curr_gray[center_pt[1]-half-1:center_pt[1]+half+2, center_pt[0]-half-1:center_pt[0]+half+2]\n",
    "    \n",
    "    # Apply Gaussian Blur on the windows\n",
    "    curr_window = cv.GaussianBlur(curr_window, (gauss_kernel, gauss_kernel), 0)\n",
    "    next_window = cv.GaussianBlur(next_window, (gauss_kernel, gauss_kernel), 0)\n",
    "    larger_window = cv.GaussianBlur(larger_window, (gauss_kernel+2, gauss_kernel+2), 0)\n",
    "    \n",
    "    # Calculate gradients\n",
    "    I_x = (larger_window[1:-1, 1:-1] - larger_window[1:-1, 0:-2])\n",
    "    I_y = (larger_window[1:-1,1:-1] - larger_window[0:-2, 1:-1])\n",
    "    I_t = next_window - curr_window\n",
    "    \n",
    "    # Solve the overdetermined system (close form least squares solution)\n",
    "    sol = np.matmul(np.linalg.pinv(np.array([[np.sum(I_x**2), np.sum(I_x*I_y)], [np.sum(I_x*I_y), np.sum(I_y**2)]])), -1 * np.array([[np.sum(I_x * I_t)], [np.sum(I_y * I_t)]]))\n",
    "    return sol"
   ]
  },
  {
   "cell_type": "code",
   "execution_count": 12,
   "metadata": {},
   "outputs": [
    {
     "data": {
      "text/plain": [
       "<matplotlib.image.AxesImage at 0x7f76da6db090>"
      ]
     },
     "execution_count": 12,
     "metadata": {},
     "output_type": "execute_result"
    },
    {
     "data": {
      "image/png": "[encoded data removed]",
      "text/plain": [
       "<Figure size 432x288 with 1 Axes>"
      ]
     },
     "metadata": {
      "needs_background": "light"
     },
     "output_type": "display_data"
    }
   ],
   "source": [
    "vectored_images = list()\n",
    "w_size = 49\n",
    "kernel_size = 31\n",
    "\n",
    "i = 18\n",
    "\n",
    "p0 = cv.goodFeaturesToTrack(good_frame(vid_frame[i]), mask = None, **feature_params)\n",
    "pts = [(int(p0[abc, 0, 0]), int(p0[abc, 0, 1])) for abc in range(16)]\n",
    "\n",
    "ans = [optical_flow(good_frame(vid_frame[i]),\n",
    "                    good_frame(vid_frame[i+1]),\n",
    "                    (pts[abc][0], pts[abc][1]), w_size, kernel_size) for abc in range(16)]\n",
    "\n",
    "draw_vec = [\n",
    "    (normalize(ans[abc], axis=0) * 30).astype(np.int) for abc in range(16)\n",
    "]\n",
    "\n",
    "cp_image = deepcopy(vid_frame[i])\n",
    "for abc in range(16):\n",
    "    cv.arrowedLine(cp_image, (pts[abc][0]-125, pts[abc][1]-125), (pts[abc][0] + draw_vec[abc][0]-125, pts[abc][1] + draw_vec[abc][1]-125), 255, thickness=2)\n",
    "\n",
    "vectored_images.append(cp_image)\n",
    "\n",
    "plt.imshow(vectored_images[0])"
   ]
  },
  {
   "cell_type": "code",
   "execution_count": 13,
   "metadata": {},
   "outputs": [
    {
     "data": {
      "text/plain": [
       "<matplotlib.image.AxesImage at 0x7f76da63e750>"
      ]
     },
     "execution_count": 13,
     "metadata": {},
     "output_type": "execute_result"
    },
    {
     "data": {
      "image/png": "[encoded data removed]",
      "text/plain": [
       "<Figure size 432x288 with 1 Axes>"
      ]
     },
     "metadata": {
      "needs_background": "light"
     },
     "output_type": "display_data"
    }
   ],
   "source": [
    "plt.imshow(good_frame(vid_frame[18]), cmap=\"gray\")"
   ]
  },
  {
   "cell_type": "code",
   "execution_count": 14,
   "metadata": {},
   "outputs": [
    {
     "data": {
      "text/plain": [
       "<matplotlib.image.AxesImage at 0x7f76da6219d0>"
      ]
     },
     "execution_count": 14,
     "metadata": {},
     "output_type": "execute_result"
    },
    {
     "data": {
      "image/png": "[encoded data removed]",
      "text/plain": [
       "<Figure size 432x288 with 1 Axes>"
      ]
     },
     "metadata": {
      "needs_background": "light"
     },
     "output_type": "display_data"
    }
   ],
   "source": [
    "plt.imshow(good_frame(vid_frame[19]))"
   ]
  },
  {
   "cell_type": "code",
   "execution_count": 15,
   "metadata": {},
   "outputs": [
    {
     "data": {
      "text/plain": [
       "<matplotlib.image.AxesImage at 0x7f76da5a0f50>"
      ]
     },
     "execution_count": 15,
     "metadata": {},
     "output_type": "execute_result"
    },
    {
     "data": {
      "image/png": "[encoded data removed]",
      "text/plain": [
       "<Figure size 432x288 with 1 Axes>"
      ]
     },
     "metadata": {
      "needs_background": "light"
     },
     "output_type": "display_data"
    }
   ],
   "source": [
    "vectored_images = list()\n",
    "w_size = 51\n",
    "kernel_size = 51\n",
    "\n",
    "i = 19\n",
    "\n",
    "p0 = cv.goodFeaturesToTrack(good_frame(vid_frame[i]), mask = None, **feature_params)\n",
    "pts = [(int(p0[abc, 0, 0]), int(p0[abc, 0, 1])) for abc in range(16)]\n",
    "\n",
    "ans = [optical_flow(good_frame(vid_frame[i]),\n",
    "                    good_frame(vid_frame[i+1]),\n",
    "                    (pts[abc][0], pts[abc][1]), w_size, kernel_size) for abc in range(16)]\n",
    "\n",
    "draw_vec = [\n",
    "    (normalize(ans[abc], axis=0) * 30).astype(np.int) for abc in range(16)\n",
    "]\n",
    "\n",
    "cp_image = deepcopy(vid_frame[i])\n",
    "for abc in range(16):\n",
    "    cv.arrowedLine(cp_image, (pts[abc][0]-125, pts[abc][1]-125), (pts[abc][0] + draw_vec[abc][0]-125, pts[abc][1] + draw_vec[abc][1]-125), 255, thickness=2)\n",
    "\n",
    "vectored_images.append(cp_image)\n",
    "\n",
    "plt.imshow(vectored_images[0])"
   ]
  },
  {
   "cell_type": "code",
   "execution_count": 16,
   "metadata": {},
   "outputs": [
    {
     "data": {
      "text/plain": [
       "<matplotlib.image.AxesImage at 0x7f76da513810>"
      ]
     },
     "execution_count": 16,
     "metadata": {},
     "output_type": "execute_result"
    },
    {
     "data": {
      "image/png": "[encoded data removed]",
      "text/plain": [
       "<Figure size 432x288 with 1 Axes>"
      ]
     },
     "metadata": {
      "needs_background": "light"
     },
     "output_type": "display_data"
    }
   ],
   "source": [
    "vectored_images = list()\n",
    "w_size = 49\n",
    "kernel_size = 31\n",
    "\n",
    "for i in range(frame_count - 1):\n",
    "    if i == 1:\n",
    "        break\n",
    "    i = 18\n",
    "    p0 = cv.goodFeaturesToTrack(good_frame(vid_frame[i]), mask = None, **feature_params)\n",
    "    pts = [(int(p0[abc, 0, 0]), int(p0[abc, 0, 1])) for abc in range(16)]\n",
    "    \n",
    "    ans = [optical_flow(good_frame(vid_frame[i]),\n",
    "                        good_frame(vid_frame[i+1]),\n",
    "                        (pts[abc][0], pts[abc][1]), w_size, kernel_size) for abc in range(16)]\n",
    "    \n",
    "    draw_vec = [\n",
    "        (normalize(ans[abc], axis=0) * 30).astype(np.int) for abc in range(16)\n",
    "    ]\n",
    "    \n",
    "    cp_image = deepcopy(vid_frame[i])\n",
    "    for abc in range(16):\n",
    "        cv.arrowedLine(cp_image, (pts[abc][0]-125, pts[abc][1]-125), (pts[abc][0] + draw_vec[abc][0]-125, pts[abc][1] + draw_vec[abc][1]-125), 255, thickness=2)\n",
    "        \n",
    "    vectored_images.append(cp_image)\n",
    "plt.imshow(vectored_images[0])"
   ]
  }
 ],
 "metadata": {
  "@webio": {
   "lastCommId": null,
   "lastKernelId": null
  },
  "kernelspec": {
   "display_name": "Python 3",
   "language": "python",
   "name": "python3"
  },
  "language_info": {
   "codemirror_mode": {
    "name": "ipython",
    "version": 3
   },
   "file_extension": ".py",
   "mimetype": "text/x-python",
   "name": "python",
   "nbconvert_exporter": "python",
   "pygments_lexer": "ipython3",
   "version": "3.7.7"
  }
 },
 "nbformat": 4,
 "nbformat_minor": 4
}
