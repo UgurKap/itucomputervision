{
 "cells": [
  {
   "cell_type": "markdown",
   "metadata": {},
   "source": [
    "**Student Name**: Uğur Ali Kaplan  \n",
    "**Student ID**: 150170042"
   ]
  },
  {
   "cell_type": "code",
   "execution_count": 1,
   "metadata": {},
   "outputs": [],
   "source": [
    "import moviepy.video.io.VideoFileClip as mpy\n",
    "import moviepy.editor as mpyeditor\n",
    "import cv2\n",
    "\n",
    "import numpy as np\n",
    "import matplotlib.pyplot as plt\n",
    "\n",
    "from copy import deepcopy\n",
    "from sklearn.preprocessing import normalize\n",
    "from sklearn.metrics import mean_squared_error"
   ]
  },
  {
   "cell_type": "markdown",
   "metadata": {},
   "source": [
    "## Part 1"
   ]
  },
  {
   "cell_type": "code",
   "execution_count": 2,
   "metadata": {},
   "outputs": [],
   "source": [
    "def optical_flow(curr_frame, next_frame, center_pt, window_size):\n",
    "    \"\"\"\n",
    "    Optical flow implementation with lucas-kanade.\n",
    "    \"\"\"\n",
    "    assert window_size % 2 == 1\n",
    "    assert window_size >= 3\n",
    "    half = window_size // 2\n",
    "    \n",
    "    # Convert the frames into grayscale\n",
    "    curr_img, next_img = deepcopy(curr_frame), deepcopy(next_frame)\n",
    "    curr_gray, next_gray = cv2.cvtColor(curr_img, cv2.COLOR_BGR2GRAY), cv2.cvtColor(next_img, cv2.COLOR_BGR2GRAY)\n",
    "    curr_gray, next_gray = np.float32(curr_gray), np.float32(next_gray)\n",
    "    \n",
    "    # Create the windows with the given window size\n",
    "    curr_window = curr_gray[center_pt[1]-half:center_pt[1]+half+1, center_pt[0]-half:center_pt[0]+half+1]\n",
    "    next_window = next_gray[center_pt[1]-half:center_pt[1]+half+1, center_pt[0]-half:center_pt[0]+half+1]\n",
    "    \n",
    "    larger_window = curr_gray[center_pt[1]-half-1:center_pt[1]+half+2, center_pt[0]-half-1:center_pt[0]+half+2]\n",
    "    \n",
    "    # Apply Gaussian Blur on the windows\n",
    "    curr_window = cv2.GaussianBlur(curr_window, (window_size, window_size), 0)\n",
    "    next_window = cv2.GaussianBlur(next_window, (window_size, window_size), 0)\n",
    "    larger_window = cv2.GaussianBlur(larger_window, (window_size+2, window_size+2), 0)\n",
    "    \n",
    "    # Calculate gradients\n",
    "    I_x = (larger_window[1:-1, 1:-1] - larger_window[1:-1, 0:-2])\n",
    "    I_y = (larger_window[1:-1,1:-1] - larger_window[0:-2, 1:-1])\n",
    "    I_t = next_window - curr_window\n",
    "    \n",
    "    # Solve the overdetermined system (close form least squares solution)\n",
    "    sol = np.matmul(np.linalg.pinv(np.array([[np.sum(I_x**2), np.sum(I_x*I_y)], [np.sum(I_x*I_y), np.sum(I_y**2)]])), -1 * np.array([[np.sum(I_x * I_t)], [np.sum(I_y * I_t)]]))\n",
    "    return sol"
   ]
  },
  {
   "cell_type": "code",
   "execution_count": 3,
   "metadata": {},
   "outputs": [
    {
     "name": "stderr",
     "output_type": "stream",
     "text": [
      "t:   5%|▌         | 8/153 [00:00<00:01, 74.36it/s, now=None]"
     ]
    },
    {
     "name": "stdout",
     "output_type": "stream",
     "text": [
      "Moviepy - Building video video_1.mp4.\n",
      "Moviepy - Writing video video_1.mp4\n",
      "\n"
     ]
    },
    {
     "name": "stderr",
     "output_type": "stream",
     "text": [
      "                                                              \r"
     ]
    },
    {
     "name": "stdout",
     "output_type": "stream",
     "text": [
      "Moviepy - Done !\n",
      "Moviepy - video ready video_1.mp4\n"
     ]
    }
   ],
   "source": [
    "biped_vid = mpy.VideoFileClip(\"biped_1.avi\")\n",
    "frame_count = biped_vid.reader.nframes\n",
    "video_fps = biped_vid.fps\n",
    "\n",
    "walker_frame = list()\n",
    "for i in range(frame_count):\n",
    "    walker_frame.append(biped_vid.get_frame(i*1.0/video_fps))\n",
    "\n",
    "vectored_images = list()\n",
    "\n",
    "# A point on the hand\n",
    "coor_0, coor_1 = 400, 330\n",
    "\n",
    "for i in range(frame_count - 1):\n",
    "    # Window size 7\n",
    "    ans = optical_flow(walker_frame[i], walker_frame[i+1], (coor_0, coor_1), 7)\n",
    "    \n",
    "    # Make the vector length 30 so OF vector looks nice\n",
    "    draw_vec = (normalize(ans, axis=0) * 30).astype(np.int)\n",
    "    cp_image = deepcopy(walker_frame[i])\n",
    "    vectored_images.append(cv2.arrowedLine(cp_image, (coor_0, coor_1), (coor_0 + draw_vec[0], coor_1 + draw_vec[1]), 255, thickness=2))\n",
    "    \n",
    "    # Clip the solution for better tracking\n",
    "    ans = np.clip(ans, -2, +2)\n",
    "    \n",
    "    # Update the point\n",
    "    coor_0 = int(np.round(coor_0 + ans[0])[0])\n",
    "    coor_1 = int(np.round(coor_1 + ans[1])[0])\n",
    "            \n",
    "clip = mpyeditor.ImageSequenceClip(vectored_images, fps=video_fps)\n",
    "clip.write_videofile(\"video_1.mp4\", codec=\"libx264\")"
   ]
  },
  {
   "cell_type": "markdown",
   "metadata": {},
   "source": [
    "## Part 2"
   ]
  },
  {
   "cell_type": "code",
   "execution_count": 4,
   "metadata": {},
   "outputs": [],
   "source": [
    "def fill_whites(img):\n",
    "    \"\"\"\n",
    "    Source: https://stackoverflow.com/a/51348091\n",
    "    \"\"\"\n",
    "    gray = cv2.cvtColor(img, cv2.COLOR_BGR2GRAY)\n",
    "    ret, thresh = cv2.threshold(gray, 240, 255, cv2.THRESH_BINARY)\n",
    "    img[thresh == 255] = 0\n",
    "    kernel = cv2.getStructuringElement(cv2.MORPH_ELLIPSE, (5, 5))\n",
    "    erosion = cv2.erode(img, kernel, iterations = 1)\n",
    "    return erosion"
   ]
  },
  {
   "cell_type": "code",
   "execution_count": 5,
   "metadata": {},
   "outputs": [
    {
     "name": "stderr",
     "output_type": "stream",
     "text": [
      "t:   7%|▋         | 10/153 [00:00<00:01, 98.51it/s, now=None]"
     ]
    },
    {
     "name": "stdout",
     "output_type": "stream",
     "text": [
      "Moviepy - Building video video_2.mp4.\n",
      "Moviepy - Writing video video_2.mp4\n",
      "\n"
     ]
    },
    {
     "name": "stderr",
     "output_type": "stream",
     "text": [
      "                                                              \r"
     ]
    },
    {
     "name": "stdout",
     "output_type": "stream",
     "text": [
      "Moviepy - Done !\n",
      "Moviepy - video ready video_2.mp4\n"
     ]
    }
   ],
   "source": [
    "biped_vid = mpy.VideoFileClip(\"biped_2.avi\")\n",
    "frame_count = biped_vid.reader.nframes\n",
    "video_fps = biped_vid.fps\n",
    "\n",
    "walker_frame = list()\n",
    "for i in range(frame_count):\n",
    "    walker_frame.append(biped_vid.get_frame(i*1.0/video_fps))\n",
    "\n",
    "vectored_images = list()\n",
    "\n",
    "# A point in hand and corners on the wall\n",
    "coor_0, coor_1 = 400, 330\n",
    "pts = [(210, 183), (210, 315), (308, 183), (308, 315)]\n",
    "\n",
    "# Window size for the wall is 49\n",
    "w_size = 49\n",
    "\n",
    "hand_vectors = []\n",
    "mean_wall_vectors = []\n",
    "\n",
    "for i in range(frame_count - 1):\n",
    "    ans = [\n",
    "        optical_flow(walker_frame[i], walker_frame[i+1], pts[0], w_size),\n",
    "        optical_flow(walker_frame[i], walker_frame[i+1], pts[1], w_size),\n",
    "        optical_flow(walker_frame[i], walker_frame[i+1], pts[2], w_size),\n",
    "        optical_flow(walker_frame[i], walker_frame[i+1], pts[3], w_size),\n",
    "        optical_flow(fill_whites(deepcopy(walker_frame[i])),\n",
    "                     fill_whites(deepcopy(walker_frame[i+1])),\n",
    "                     (coor_0, coor_1), 7)\n",
    "    ]\n",
    "    \n",
    "    draw_vec = [\n",
    "        (normalize(ans[0], axis=0) * 30).astype(np.int),\n",
    "        (normalize(ans[1], axis=0) * 30).astype(np.int),\n",
    "        (normalize(ans[2], axis=0) * 30).astype(np.int),\n",
    "        (normalize(ans[3], axis=0) * 30).astype(np.int),\n",
    "        (normalize(ans[4], axis=0) * 30).astype(np.int)\n",
    "    ]\n",
    "    \n",
    "    cp_image = deepcopy(walker_frame[i])\n",
    "    cv2.arrowedLine(cp_image, pts[0], (pts[0][0] + draw_vec[0][0], pts[0][1] + draw_vec[0][1]), 255, thickness=2)\n",
    "    cv2.arrowedLine(cp_image, pts[1], (pts[1][0] + draw_vec[1][0], pts[1][1] + draw_vec[1][1]), 255, thickness=2)\n",
    "    cv2.arrowedLine(cp_image, pts[2], (pts[2][0] + draw_vec[2][0], pts[2][1] + draw_vec[2][1]), 255, thickness=2)\n",
    "    cv2.arrowedLine(cp_image, pts[3], (pts[3][0] + draw_vec[3][0], pts[3][1] + draw_vec[3][1]), 255, thickness=2)\n",
    "    cv2.arrowedLine(cp_image, (coor_0, coor_1), (coor_0 + draw_vec[4][0], coor_1 + draw_vec[4][1]), 255, thickness=2)\n",
    "    \n",
    "    vectored_images.append(cp_image)\n",
    "    \n",
    "    mean_wall_vectors.append(np.mean(ans[0] + ans[1] + ans[2] + ans[3], axis=1))\n",
    "    hand_vectors.append(ans[4])\n",
    "    \n",
    "    ans[4] = np.clip(ans[4], -2, 2)\n",
    "    coor_0 = int(np.round(coor_0 + ans[4][0])[0])\n",
    "    coor_1 = int(np.round(coor_1 + ans[4][1])[0])\n",
    "            \n",
    "clip = mpyeditor.ImageSequenceClip(vectored_images, fps=video_fps)\n",
    "clip.write_videofile(\"video_2.mp4\", codec=\"libx264\")"
   ]
  },
  {
   "cell_type": "markdown",
   "metadata": {},
   "source": [
    "## Part 3"
   ]
  },
  {
   "cell_type": "code",
   "execution_count": 6,
   "metadata": {},
   "outputs": [],
   "source": [
    "biped_vid = mpy.VideoFileClip(\"biped_3.avi\")\n",
    "frame_count = biped_vid.reader.nframes\n",
    "video_fps = biped_vid.fps\n",
    "\n",
    "walker_frame = list()\n",
    "for i in range(frame_count):\n",
    "    walker_frame.append(biped_vid.get_frame(i*1.0/video_fps))\n",
    "\n",
    "vectored_images = list()\n",
    "\n",
    "coor_0, coor_1 = 400, 330\n",
    "pts = [(210, 183), (210, 315), (308, 183), (308, 315)]\n",
    "w_size = 49"
   ]
  },
  {
   "cell_type": "code",
   "execution_count": 20,
   "metadata": {},
   "outputs": [],
   "source": [
    "hand_vectors_part3 = []\n",
    "\n",
    "for i in range(frame_count - 1):\n",
    "    ans = optical_flow(fill_whites(deepcopy(walker_frame[i])),\n",
    "                       fill_whites(deepcopy(walker_frame[i+1])),\n",
    "                       (coor_0, coor_1), 7)\n",
    "    \n",
    "    hand_vectors_part3.append(ans)\n",
    "    \n",
    "    ans = np.clip(ans, -2, 2)\n",
    "    coor_0 = int(np.round(coor_0 + ans[0])[0])\n",
    "    coor_1 = int(np.round(coor_1 + ans[1])[0])"
   ]
  },
  {
   "cell_type": "code",
   "execution_count": 21,
   "metadata": {},
   "outputs": [],
   "source": [
    "hand_vectors_part3_fixed = []\n",
    "\n",
    "for i in range(frame_count - 1):\n",
    "    ans = [\n",
    "        optical_flow(walker_frame[i], walker_frame[i+1], pts[0], w_size),\n",
    "        optical_flow(walker_frame[i], walker_frame[i+1], pts[1], w_size),\n",
    "        optical_flow(walker_frame[i], walker_frame[i+1], pts[2], w_size),\n",
    "        optical_flow(walker_frame[i], walker_frame[i+1], pts[3], w_size),\n",
    "        optical_flow(fill_whites(deepcopy(walker_frame[i])),\n",
    "                     fill_whites(deepcopy(walker_frame[i+1])),\n",
    "                     (coor_0, coor_1), 7)\n",
    "    ]\n",
    "    \n",
    "    # Difference between wall vectors in part 2 and part 3 must be due to the camera movement\n",
    "    mean_wall = np.mean(ans[0] + ans[1] + ans[2] + ans[3], axis=1)\n",
    "    \n",
    "    translate_by = (mean_wall - mean_wall_vectors[i]).reshape(2,1)\n",
    "    hand_vectors_part3_fixed.append(ans[4])\n",
    "    ans[4] = np.clip(ans[4], -2, 2)\n",
    "    \n",
    "    # New coordinates are determined by optical flow - camera movement\n",
    "    coor_0 = int(np.round(coor_0 + ans[4][0] - translate_by[0]/30)[0])\n",
    "    coor_1 = int(np.round(coor_1 + ans[4][1] - translate_by[1]/30)[0])"
   ]
  },
  {
   "cell_type": "code",
   "execution_count": 22,
   "metadata": {},
   "outputs": [],
   "source": [
    "part3_mse = mean_squared_error(np.array(hand_vectors).reshape(-1, 1).astype(np.float),\n",
    "                               np.array(hand_vectors_part3).reshape(-1, 1).astype(np.float))"
   ]
  },
  {
   "cell_type": "code",
   "execution_count": 23,
   "metadata": {},
   "outputs": [],
   "source": [
    "part3_mse_fixed = mean_squared_error(np.array(hand_vectors).reshape(-1, 1).astype(np.float),\n",
    "                               np.array(hand_vectors_part3_fixed).reshape(-1, 1).astype(np.float))"
   ]
  },
  {
   "cell_type": "code",
   "execution_count": 24,
   "metadata": {},
   "outputs": [
    {
     "name": "stdout",
     "output_type": "stream",
     "text": [
      "MSE without correction: 156.0046011157686\n",
      "MSE with correction: 104.53112335557307\n"
     ]
    }
   ],
   "source": [
    "print(f\"MSE without correction: {part3_mse}\\nMSE with correction: {part3_mse_fixed}\")"
   ]
  }
 ],
 "metadata": {
  "@webio": {
   "lastCommId": null,
   "lastKernelId": null
  },
  "kernelspec": {
   "display_name": "Python 3",
   "language": "python",
   "name": "python3"
  },
  "language_info": {
   "codemirror_mode": {
    "name": "ipython",
    "version": 3
   },
   "file_extension": ".py",
   "mimetype": "text/x-python",
   "name": "python",
   "nbconvert_exporter": "python",
   "pygments_lexer": "ipython3",
   "version": "3.7.7"
  }
 },
 "nbformat": 4,
 "nbformat_minor": 4
}
